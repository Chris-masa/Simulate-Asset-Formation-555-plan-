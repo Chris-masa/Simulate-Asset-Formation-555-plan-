{
  "nbformat": 4,
  "nbformat_minor": 0,
  "metadata": {
    "colab": {
      "name": "投資計画.ipynb",
      "provenance": [],
      "collapsed_sections": [],
      "toc_visible": true,
      "authorship_tag": "ABX9TyOL9I0I2SFMbrbKpElxP7tQ",
      "include_colab_link": true
    },
    "kernelspec": {
      "name": "python3",
      "display_name": "Python 3"
    }
  },
  "cells": [
    {
      "cell_type": "markdown",
      "metadata": {
        "id": "view-in-github",
        "colab_type": "text"
      },
      "source": [
        "<a href=\"https://colab.research.google.com/github/Chris-masa/Simulate-Asset-Formation-555-plan-/blob/master/%E6%8A%95%E8%B3%87%E8%A8%88%E7%94%BB.ipynb\" target=\"_parent\"><img src=\"https://colab.research.google.com/assets/colab-badge.svg\" alt=\"Open In Colab\"/></a>"
      ]
    },
    {
      "cell_type": "markdown",
      "metadata": {
        "id": "h_Rskd-Vj9NV",
        "colab_type": "text"
      },
      "source": [
        "#◎Parameter記述クラス"
      ]
    },
    {
      "cell_type": "markdown",
      "metadata": {
        "id": "Ywp2JmEkl2WG",
        "colab_type": "text"
      },
      "source": [
        "# インデックスファンドのパラメータ"
      ]
    },
    {
      "cell_type": "code",
      "metadata": {
        "id": "P5a22h8LYtFD",
        "colab_type": "code",
        "colab": {}
      },
      "source": [
        "class Ipara():\n",
        "  def __init__(deposit, fee, expected_gain, UseNISA=False, reinvestmentd=True, year=0, month=0, tax=8.0, balance_init=0, withdrawal=0):\n",
        "    self.deposit = deposit\n",
        "    self.fee = fee\n",
        "    self.expected_gain = expected_gain\n",
        "\n",
        "    self.UseNISA = UseNISA\n",
        "    self.reinvestmentd = reinvestmentd\n",
        "    self.year = year\n",
        "    self.month = month\n",
        "    self.tax = tax\n",
        "    self.balance_init = balance_init\n",
        "    self.withdrawal = withdrawal\n",
        "\n"
      ],
      "execution_count": 0,
      "outputs": []
    },
    {
      "cell_type": "markdown",
      "metadata": {
        "id": "DMKXDN--aqcs",
        "colab_type": "text"
      },
      "source": [
        "######deposit...１月に入金する金額,  \n",
        "######fee...手数料,  \n",
        "######expected_gain...予測される年利,  \n",
        "######|\n",
        "######UseNISA...NISAを使うかどうか(デフォルト：False),  \n",
        "######reinvestmentd...再投資をするかどうか(デフォルト：True),  \n",
        "######year...現在の経過年数(デフォルト：0),  \n",
        "######month...現在の経過月数(デフォルト：0),  \n",
        "######tax...税金(デフォルト：8.0),  \n",
        "######balance_init初期投資額(デフォルト：0),  \n",
        "######withdrawal...1か月あたりの出金額(デフォルト：0)\n",
        "\n"
      ]
    },
    {
      "cell_type": "code",
      "metadata": {
        "id": "ae4cuBxLc3pA",
        "colab_type": "code",
        "colab": {}
      },
      "source": [
        ""
      ],
      "execution_count": 0,
      "outputs": []
    },
    {
      "cell_type": "markdown",
      "metadata": {
        "id": "zXOMfvEkmCOe",
        "colab_type": "text"
      },
      "source": [
        "# 債務のパラメータ"
      ]
    }
  ]
}