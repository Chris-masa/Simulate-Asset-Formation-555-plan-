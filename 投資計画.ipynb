{
  "nbformat": 4,
  "nbformat_minor": 0,
  "metadata": {
    "colab": {
      "name": "投資計画.ipynb",
      "provenance": [],
      "collapsed_sections": [],
      "toc_visible": true,
      "authorship_tag": "ABX9TyNEBhOBNgyc8R0lDIvZ5/Q0",
      "include_colab_link": true
    },
    "kernelspec": {
      "name": "python3",
      "display_name": "Python 3"
    }
  },
  "cells": [
    {
      "cell_type": "markdown",
      "metadata": {
        "id": "view-in-github",
        "colab_type": "text"
      },
      "source": [
        "<a href=\"https://colab.research.google.com/github/Chris-masa/Simulate-Asset-Formation-555-plan-/blob/master/%E6%8A%95%E8%B3%87%E8%A8%88%E7%94%BB.ipynb\" target=\"_parent\"><img src=\"https://colab.research.google.com/assets/colab-badge.svg\" alt=\"Open In Colab\"/></a>"
      ]
    },
    {
      "cell_type": "markdown",
      "metadata": {
        "id": "h_Rskd-Vj9NV",
        "colab_type": "text"
      },
      "source": [
        "#◎Parameter記述クラス"
      ]
    },
    {
      "cell_type": "markdown",
      "metadata": {
        "id": "LBwW7-ebtPba",
        "colab_type": "text"
      },
      "source": [
        "# Main"
      ]
    },
    {
      "cell_type": "markdown",
      "metadata": {
        "id": "59k5ny5lnkmJ",
        "colab_type": "text"
      },
      "source": [
        "######deposit...１月に入金する金額,  \n",
        "######fee...手数料,  \n",
        "######expected_gain...予測される年利,  \n",
        "######|\n",
        "######UseNISA...NISAを使うかどうか(デフォルト：False),  \n",
        "######reinvestmentd...再投資をするかどうか(デフォルト：True),  \n",
        "######year...現在の経過年数(デフォルト：0),  \n",
        "######month...現在の経過月数(デフォルト：0),  \n",
        "######tax...税金(デフォルト：8.0),  \n",
        "######balance_init初期投資額(デフォルト：0),  \n",
        "######withdrawal...1か月あたりの出金額(デフォルト：0)"
      ]
    },
    {
      "cell_type": "code",
      "metadata": {
        "id": "9nV-nAUCtTOe",
        "colab_type": "code",
        "outputId": "d8f42fdf-05d9-42dc-eac4-30cf45bfc198",
        "colab": {
          "base_uri": "https://localhost:8080/",
          "height": 71
        }
      },
      "source": [
        "import matplotlib\n",
        "import sys\n",
        "import copy\n",
        "\n",
        "\n",
        "#最大継続年数に達するか、目標に達成した時点で、マークが付きます。\n",
        "#両方の条件を達成するまで、もしくは継続年数が100年になった時点で計算は終了します。\n",
        "target_amount = 5000  #単位は万\n",
        "continuation_years = 30  #最大継続年数\n",
        "deposit = 6.0  #一か月の入金(万円)\n",
        "fee = 0.1  # 手数料(％)\n",
        "expected_gain = 7.0 # 予想利益(％)\n",
        "\n",
        "\n",
        "\n",
        "#各銘柄の初期値を設定\n",
        "#パラメータをリストに入れてリテラブルにすれば、複数銘柄でもスムーズに記述できる？\n",
        "i_para = Ipara(6.0, 0.1, 7.0, use_NISA=True)\n",
        "\n",
        "calculater = CalcAsset()\n",
        "balance_transition = []\n",
        "balance_transition = calculater.calculate(i_para, target_amount, continuation_years)\n",
        "\n",
        "print(balance_transition)\n",
        "\n",
        "#    for amount in self.balance_transition:\n",
        "#      print(amount)\n",
        "    \n",
        "\n",
        "\n",
        "class CalcAsset():\n",
        "  def calculate(self, i_para, target, max_year):\n",
        "    print(\"calc start!\")\n",
        "    balance_transition = []\n",
        "    debag_month=0\n",
        "    balance = i_para.balance_init\n",
        "    balance_transition.append(balance)\n",
        "    for year in range(0, continuation_years):\n",
        "      preview_balance = balance\n",
        "      for month in range(1, 13):\n",
        "        debag_month+=1\n",
        "        balance += i_para.deposit\n",
        "        balance += balance * (i_para.expected_gain/100)/12  #純利益 \n",
        "        if(balance <= 0):\n",
        "          return balance_transition\n",
        "      \n",
        "#      print(\"year:\",end=\" \")\n",
        "#      print(year+1,end=\" balance: \")\n",
        "#      print(balance)\n",
        "      \n",
        "      balance -= balance * (i_para.fee/100) #手数料をマイナス\n",
        "      income = balance - preview_balance\n",
        "      if(income < 0):\n",
        "        continue\n",
        "\n",
        "      if i_para.use_NISA==False or year>5:   # NISA適応範囲外なら\n",
        "        balance -= income * (i_para.tax/100)\n",
        "      \n",
        "      balance_transition.append(balance)\n",
        "\n",
        "      if year == max_year:\n",
        "        pass\n",
        "        ##処理追加予定\n",
        "      if  balance >= target:\n",
        "        pass\n",
        "        ##処理追加予定２\n",
        "      if year >= max_year and balance >= target:\n",
        "        pass\n",
        "        ##終了処理\n",
        "\n",
        "    return balance_transition\n",
        "      \n",
        "\n",
        "\n",
        "class Ipara():\n",
        "  def __init__(self, deposit, fee, expected_gain, use_NISA=True, reinvestmented=True, year=0, month=0, tax=20.3, balance_init=0, withdrawal=0):\n",
        "    self.deposit = deposit\n",
        "    self.fee = fee\n",
        "    self.expected_gain = expected_gain\n",
        "\n",
        "    self.use_NISA = use_NISA\n",
        "    self.reinvestmented = reinvestmented\n",
        "    self.year = year\n",
        "    self.month = month\n",
        "    self.tax = tax\n",
        "    self.balance_init = balance_init\n",
        "    self.withdrawal = withdrawal\n"
      ],
      "execution_count": 22,
      "outputs": [
        {
          "output_type": "stream",
          "text": [
            "calc start!\n",
            "[0, 74.71446297075684, 154.74992493325988, 240.48533568041927, 332.3266329722111, 430.7086645590691, 536.0972470875369, 626.0738643531648, 721.1576065335632, 821.6383569971864, 927.8224530603964, 1040.0336199230771, 1158.6139576149747, 1283.9249839616853, 1416.3487367499938, 1556.288938452758, 1704.1722270642495, 1860.4494567984252, 2025.597072615582, 2200.1185627679433, 2384.545993792573, 2579.4416326313767, 2785.3996608235757, 3003.0479859967354, 3233.050156179076, 3476.107382769257, 3732.960678331104, 4004.3931157307934, 4291.232215503979, 4594.352468731261, 4914.678003113517]\n"
          ],
          "name": "stdout"
        }
      ]
    },
    {
      "cell_type": "code",
      "metadata": {
        "id": "E03-1I_57TUv",
        "colab_type": "code",
        "colab": {
          "base_uri": "https://localhost:8080/",
          "height": 319
        },
        "outputId": "7471327f-ef88-46f4-c139-ee18b33c2d8b"
      },
      "source": [
        "import matplotlib.pyplot as plt\n",
        "import copy\n",
        "x = list(range(continuation_years+1))\n",
        "y = balance_transition\n",
        "z = [n*6*10 for n in x]\n",
        "\n",
        "print(x)\n",
        "print(y)\n",
        "plt.plot(x,y)\n",
        "plt.plot(x,z)\n",
        "plt.show()"
      ],
      "execution_count": 30,
      "outputs": [
        {
          "output_type": "stream",
          "text": [
            "[0, 1, 2, 3, 4, 5, 6, 7, 8, 9, 10, 11, 12, 13, 14, 15, 16, 17, 18, 19, 20, 21, 22, 23, 24, 25, 26, 27, 28, 29, 30]\n",
            "[0, 74.71446297075684, 154.74992493325988, 240.48533568041927, 332.3266329722111, 430.7086645590691, 536.0972470875369, 626.0738643531648, 721.1576065335632, 821.6383569971864, 927.8224530603964, 1040.0336199230771, 1158.6139576149747, 1283.9249839616853, 1416.3487367499938, 1556.288938452758, 1704.1722270642495, 1860.4494567984252, 2025.597072615582, 2200.1185627679433, 2384.545993792573, 2579.4416326313767, 2785.3996608235757, 3003.0479859967354, 3233.050156179076, 3476.107382769257, 3732.960678331104, 4004.3931157307934, 4291.232215503979, 4594.352468731261, 4914.678003113517]\n"
          ],
          "name": "stdout"
        },
        {
          "output_type": "display_data",
          "data": {
            "image/png": "[encoded data removed]",
            "text/plain": [
              "<Figure size 432x288 with 1 Axes>"
            ]
          },
          "metadata": {
            "tags": []
          }
        }
      ]
    },
    {
      "cell_type": "markdown",
      "metadata": {
        "id": "ZP3IvZ-9qYub",
        "colab_type": "text"
      },
      "source": [
        "# 新しいセクション"
      ]
    }
  ]
}